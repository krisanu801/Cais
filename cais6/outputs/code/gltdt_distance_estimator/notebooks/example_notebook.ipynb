{
 "cells": [
  {
   "cell_type": "markdown",
   "metadata": {},
   "source": [
    "# GLTDT Distance Estimator - Example Usage\n",
    "\n",
    "This notebook demonstrates how to use the modules in the `gltldt_distance_estimator` project to load data, estimate time delays, fit lens models, and calculate distances.\n",
    "\n",
    "**Note:** This notebook assumes you have already installed the project and its dependencies as described in the `README.md` file."
   ]
  },
  {
   "cell_type": "code",
   "execution_count": null,
   "metadata": {},
   "outputs": [],
   "source": [
    "# Add the project root to the sys.path to allow local imports\n",
    "import sys\n",
    "import os\n",
    "\n",
    "PROJECT_ROOT = os.path.abspath(os.path.join(os.getcwd(), '..'))\n",
    "if PROJECT_ROOT not in sys.path:\n",
    "    sys.path.insert(0, PROJECT_ROOT)"
   ]
  },
  {
   "cell_type": "code",
   "execution_count": null,
   "metadata": {},
   "outputs": [],
   "source": [
    "# Import necessary modules\n",
    "try:\n",
    "    from src.data.data_loader import load_data\n",
    "    from src.models.time_delay_estimation import estimate_time_delay\n",
    "    from src.models.lens_model import fit_lens_model\n",
    "    from src.models.distance_calculation import calculate_distance\n",
    "    from configs.config import load_config\n",
    "    import logging\n",
    "    \n",
    "    # Configure logging\n",
    "    logging.basicConfig(level=logging.INFO, format='%(asctime)s - %(levelname)s - %(message)s')\n",
    "    \n",
    "    print(\"Imports successful!\")\n",
    "except ImportError as e:\n",
    "    print(f\"ImportError: {e}. Please ensure the project is set up correctly and dependencies are installed.\")\n",
    "    raise"
   ]
  },
  {
   "cell_type": "code",
   "execution_count": null,
   "metadata": {},
   "outputs": [],
   "source": [
    "# Load configuration\n",
    "try:\n",
    "    config = load_config()\n",
    "    print(\"Configuration loaded successfully.\")\n",
    "except Exception as e:\n",
    "    print(f\"Error loading configuration: {e}\")\n",
    "    raise"
   ]
  },
  {
   "cell_type": "code",
   "execution_count": null,
   "metadata": {},
   "outputs": [],
   "source": [
    "# Load data\n",
    "try:\n",
    "    data_path = config['data']['data_path']\n",
    "    data = load_data(data_path)\n",
    "    print(\"Data loaded successfully.\")\n",
    "    print(f\"Data keys: {data.keys() if isinstance(data, dict) else type(data)}\") # Print keys if data is a dictionary\n",
    "except Exception as e:\n",
    "    print(f\"Error loading data: {e}\")\n",
    "    raise"
   ]
  },
  {
   "cell_type": "code",
   "execution_count": null,
   "metadata": {},
   "outputs": [],
   "source": [
    "# Estimate time delay\n",
    "try:\n",
    "    time_delay = estimate_time_delay(data)\n",
    "    print(f\"Time delay estimated: {time_delay}\")\n",
    "except Exception as e:\n",
    "    print(f\"Error estimating time delay: {e}\")\n",
    "    raise"
   ]
  },
  {
   "cell_type": "code",
   "execution_count": null,
   "metadata": {},
   "outputs": [],
   "source": [
    "# Fit lens model\n",
    "try:\n",
    "    lens_model = fit_lens_model(data, time_delay)\n",
    "    print(\"Lens model fitted successfully.\")\n",
    "    print(f\"Lens model keys: {lens_model.keys() if isinstance(lens_model, dict) else type(lens_model)}\")\n",
    "except Exception as e:\n",
    "    print(f\"Error fitting lens model: {e}\")\n",
    "    raise"
   ]
  },
  {
   "cell_type": "code",
   "execution_count": null,
   "metadata": {},
   "outputs": [],
   "source": [
    "# Calculate distance (Hubble constant)\n",
    "try:\n",
    "    hubble_constant = calculate_distance(lens_model, time_delay)\n",
    "    print(f\"Hubble constant calculated: {hubble_constant} km/s/Mpc\")\n",
    "except Exception as e:\n",
    "    print(f\"Error calculating Hubble constant: {e}\")\n",
    "    raise"
   ]
  },
  {
   "cell_type": "markdown",
   "metadata": {},
   "source": [
    "# Further Exploration\n",
    "\n",
    "This notebook provides a basic example of how to use the `gltldt_distance_estimator` project. You can further explore the project by:\n",
    "\n",
    "*   Modifying the `configs/config.yaml` file to change the data path, model parameters, and training hyperparameters.\n",
    "*   Implementing different time delay estimation techniques in `src/models/time_delay_estimation.py`.\n",
    "*   Implementing different lens models in `src/models/lens_model.py`.\n",
    "*   Adding more sophisticated machine learning models in `src/models/machine_learning_model.py`.\n",
    "*   Creating visualizations of the results using the functions in `src/visualization/visualization.py`.\n",
    "*   Running the unit tests in the `tests/` directory to ensure that your changes are working correctly."
   ]
  }
 ],
 "metadata": {
  "kernelspec": {
   "display_name": "Python 3",
   "language": "python",
   "name": "python3"
  },
  "language_info": {
   "codemirror_mode": {
    "name": "ipython",
    "version": 3
   },
   "file_extension": ".py",
   "mimetype": "text/x-python",
   "name": "python",
   "nbconvert_exporter": "python",
   "pygments_lexer": "ipython3",
   "version": "3.7.4"
  }
 },
 "nbformat": 4,
 "nbformat_minor": 4
}